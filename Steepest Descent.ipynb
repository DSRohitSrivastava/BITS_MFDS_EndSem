{
 "cells": [
  {
   "cell_type": "code",
   "execution_count": 71,
   "id": "fb715c06",
   "metadata": {},
   "outputs": [],
   "source": [
    "from sympy import *\n",
    "from sympy.parsing.sympy_parser import parse_expr\n",
    "from sympy.printing.latex import LatexPrinter\n",
    "from sympy.solvers.solveset import linsolve\n",
    "from sympy.solvers import solve_poly_system\n",
    "from IPython.display import display, Latex\n",
    "import numpy as np"
   ]
  },
  {
   "cell_type": "code",
   "execution_count": 2,
   "id": "3ef23357",
   "metadata": {},
   "outputs": [
    {
     "data": {
      "application/javascript": [
       "IPython.OutputArea.prototype._should_scroll = function(lines) {\n",
       "    return false;\n",
       "}\n"
      ],
      "text/plain": [
       "<IPython.core.display.Javascript object>"
      ]
     },
     "metadata": {},
     "output_type": "display_data"
    }
   ],
   "source": [
    "%%javascript\n",
    "IPython.OutputArea.prototype._should_scroll = function(lines) {\n",
    "    return false;\n",
    "}"
   ]
  },
  {
   "cell_type": "code",
   "execution_count": 174,
   "id": "d4785e06",
   "metadata": {},
   "outputs": [],
   "source": [
    "def steepest_descent(str_expr, str_symbols, x_init, tau = None, n_iter=10, rounding_digit=4):\n",
    "    sym = symbols(str_symbols)\n",
    "    f = Function('f')(*sym)\n",
    "    \n",
    "    expr = parse_expr(str_expr)\n",
    "    print('The function is')\n",
    "    display(Eq(f,expr))\n",
    "    grad = MatrixSymbol('\\u2207f',len(sym),1)\n",
    "    print('\\nStep-1: Finding gradient and hessian Matrix of the function')\n",
    "    display(Eq(grad, Matrix([Derivative(f,x) for x in sym])))\n",
    "    display(Eq(grad, Matrix([Derivative(expr,x) for x in sym])))\n",
    "    grad_m = Matrix([diff(expr,x) for x in sym])\n",
    "    display(Eq(grad, grad_m))\n",
    "    \n",
    "    print('\\nCreating the Hessian Matrix')\n",
    "    hess = MatrixSymbol('Hf',len(sym),len(sym))\n",
    "    hess_m_f = zeros(len(sym))\n",
    "    hess_m_expr = zeros(len(sym))\n",
    "    hess_m = zeros(len(sym))\n",
    "    for i,x in enumerate(sym):\n",
    "        for j,y in enumerate(sym):\n",
    "            hess_m_f[i,j] = Derivative(Derivative(f,y),x)\n",
    "            hess_m_expr[i,j] = Derivative(Derivative(expr,y),x)\n",
    "            hess_m[i,j] = diff(diff(expr,y),x)\n",
    "    display(Eq(hess,hess_m_f))  \n",
    "    display(Eq(hess,hess_m_expr)) \n",
    "    display(Eq(hess,hess_m))\n",
    "    print('\\nStep-2: Computing the step size \\u03C4\\n')\n",
    "    #display(hess_m.subs(sym[1], Symbol('y_i')))\n",
    "   \n",
    "    sym_list = str_symbols.split()#[x.strip() for x in  list(''.join(str_symbols)) if x !=' ']\n",
    "    grad_m_i = grad_m.subs([(s,Symbol(f'{t}_i')) for s,t in zip(sym,sym_list)])\n",
    "    hess_m_i = hess_m.subs([(s,Symbol(f'{t}_i')) for s,t in zip(sym,sym_list)])\n",
    "    tau_sym = Symbol('\\u03C4_i')\n",
    "    grad_i = Symbol('\\u2207f_i')\n",
    "    grad_i_T = Symbol('\\u2207f_i^T')\n",
    "    hess_i = Symbol('Hf_i')\n",
    "    \n",
    "    if not tau:\n",
    "        tau_f = Mul(Mul(grad_i_T,grad_i), Pow(Mul(Mul(grad_i_T,hess_i),grad_i), Integer(-1)), evaluate=False)\n",
    "\n",
    "    #     Mul(Mul(Mul(Mul(Transpose(grad_i),grad_i),Pow(Transpose(grad_i),Integer(-1))),Pow(hess_i, Integer(-1))),\n",
    "    #                 Pow(grad_i, Integer(-1)))\n",
    "\n",
    "        #display(Eq(tau,tau_f))\n",
    "        print('\\u03C4\\u1D62 = \\u2207f\\u1D62\\u1D40*\\u2207f\\u1D62/\\u2207f\\u1D62\\u1D40*Hf\\u1D62*\\u2207f\\u1D62\\n')\n",
    "        tau_expr = MatMul(MatMul(Transpose(grad_m_i),grad_m_i), Pow(MatMul(MatMul(Transpose(grad_m_i),hess_m_i, evaluate=False)\n",
    "                                                                  ,grad_m_i, evaluate=False)\n",
    "                                                              , Integer(-1)), evaluate=False)\n",
    "        display(tau_expr)\n",
    "        num = (Transpose(grad_m_i)*grad_m_i)[0]\n",
    "        den = (Transpose(grad_m_i)*hess_m_i*grad_m_i)[0]\n",
    "        tau_expr = num/den\n",
    "    else:\n",
    "        tau_expr = tau\n",
    "        \n",
    "    display(Eq(tau_sym,tau_expr))\n",
    "    \n",
    "    print('\\nStep-3: Iterate the minimum point')\n",
    "    display(Eq(Symbol('x_i_+_1'), Symbol('x_i') - tau_sym*grad_i))\n",
    "    sym_i = [Symbol(f'{t}_i') for t in sym_list]\n",
    "    sym_i_plus = [Symbol(f'{t}_i_+_1') for t in sym_list]\n",
    "    display(Eq(Matrix(sym_i_plus), MatAdd(Matrix(sym_i), - MatMul(tau_sym,grad_m_i), evaluate=False)))\n",
    "    display(Eq(Matrix(sym_i_plus), MatAdd(Matrix(sym_i), - MatMul(tau_expr,grad_m_i))))\n",
    "    \n",
    "    x_old = x_init\n",
    "    display(Eq(Matrix([Symbol(f'{t}_0') for t in sym_list]), Matrix(x_old)))\n",
    "    for i in range(n_iter):\n",
    "        print(f'\\nIteration - {i+1}:\\n')\n",
    "        sym_old = [Symbol(f'{t}_{i}') for t in sym_list]\n",
    "        sym_new = [Symbol(f'{t}_{i+1}') for t in sym_list]\n",
    "        display(Eq(Matrix(sym_new), MatAdd(Matrix(sym_old), - MatMul(tau_expr if isinstance(tau_expr, float) else\n",
    "                                                    tau_expr.subs([(s,t) for s,t in zip(sym_i, sym_old)])\n",
    "                                                                     ,grad_m_i.subs([(s,t) for s,t in zip(sym_i, sym_old)])))))\n",
    "        display(Eq(Matrix(sym_new), MatAdd(Matrix(x_old), - MatMul(tau_expr if isinstance(tau_expr, float) else\n",
    "                                                                tau_expr.subs([(s,t) for s,t in zip(sym_i, x_old)])\n",
    "                                                                     ,grad_m_i.subs([(s,t) for s,t in zip(sym_i, x_old)]),\n",
    "                                                                  evaluate=False))))\n",
    "        x_new = Add(Matrix(x_old), - MatMul(tau_expr if isinstance(tau_expr, float) else\n",
    "                                            tau_expr.subs([(s,t) for s,t in zip(sym_i, x_old)])\n",
    "                                                                     ,grad_m_i.subs([(s,t) for s,t in zip(sym_i, x_old)]),\n",
    "                                                                  evaluate=False))\n",
    "        x_new = [N(element, rounding_digit) for element in x_new]\n",
    "        if i ==0:\n",
    "            display(Eq(Matrix(sym_new), Add(Matrix(x_old), - MatMul(tau_expr if isinstance(tau_expr, float) else\n",
    "                                                                    tau_expr.subs([(s,t) for s,t in zip(sym_i, x_old)])\n",
    "                                                                         ,grad_m_i.subs([(s,t) for s,t in zip(sym_i, x_old)]),\n",
    "                                                                      evaluate=False))))\n",
    "        display(Eq(Matrix(sym_new), Matrix(x_new)))\n",
    "        \n",
    "        display(Eq(f.subs([(s,t) for s,t in zip(sym, sym_new)]), expr.subs([(s,t) for s,t in zip(sym, sym_new)])))\n",
    "        \n",
    "        display(Eq(f.subs([(s,t) for s,t in zip(sym, x_new)]), expr.subs([(s,t) for s,t in zip(sym, x_new)])))\n",
    "        \n",
    "        x_old = x_new\n",
    "        \n",
    "        #display(Eq(Matrix(sym_i_plus), MatAdd(Matrix(sym_i), - MatMul(tau_expr,grad_m_i))))"
   ]
  },
  {
   "cell_type": "code",
   "execution_count": 189,
   "id": "5242523d",
   "metadata": {},
   "outputs": [
    {
     "name": "stdout",
     "output_type": "stream",
     "text": [
      "The function is\n"
     ]
    },
    {
     "data": {
      "text/latex": [
       "$\\displaystyle f{\\left(x,y \\right)} = 3 x^{2} + 7 x + 4 y^{2}$"
      ],
      "text/plain": [
       "Eq(f(x, y), 3*x**2 + 7*x + 4*y**2)"
      ]
     },
     "metadata": {},
     "output_type": "display_data"
    },
    {
     "name": "stdout",
     "output_type": "stream",
     "text": [
      "\n",
      "Step-1: Finding gradient and hessian Matrix of the function\n"
     ]
    },
    {
     "data": {
      "text/latex": [
       "$\\displaystyle ∇f = \\left[\\begin{matrix}\\frac{\\partial}{\\partial x} f{\\left(x,y \\right)}\\\\\\frac{\\partial}{\\partial y} f{\\left(x,y \\right)}\\end{matrix}\\right]$"
      ],
      "text/plain": [
       "Eq(∇f, Matrix([\n",
       "[Derivative(f(x, y), x)],\n",
       "[Derivative(f(x, y), y)]]))"
      ]
     },
     "metadata": {},
     "output_type": "display_data"
    },
    {
     "data": {
      "text/latex": [
       "$\\displaystyle ∇f = \\left[\\begin{matrix}\\frac{\\partial}{\\partial x} \\left(3 x^{2} + 7 x + 4 y^{2}\\right)\\\\\\frac{\\partial}{\\partial y} \\left(3 x^{2} + 7 x + 4 y^{2}\\right)\\end{matrix}\\right]$"
      ],
      "text/plain": [
       "Eq(∇f, Matrix([\n",
       "[Derivative(3*x**2 + 7*x + 4*y**2, x)],\n",
       "[Derivative(3*x**2 + 7*x + 4*y**2, y)]]))"
      ]
     },
     "metadata": {},
     "output_type": "display_data"
    },
    {
     "data": {
      "text/latex": [
       "$\\displaystyle ∇f = \\left[\\begin{matrix}6 x + 7\\\\8 y\\end{matrix}\\right]$"
      ],
      "text/plain": [
       "Eq(∇f, Matrix([\n",
       "[6*x + 7],\n",
       "[    8*y]]))"
      ]
     },
     "metadata": {},
     "output_type": "display_data"
    },
    {
     "name": "stdout",
     "output_type": "stream",
     "text": [
      "\n",
      "Creating the Hessian Matrix\n"
     ]
    },
    {
     "data": {
      "text/latex": [
       "$\\displaystyle Hf = \\left[\\begin{matrix}\\frac{\\partial^{2}}{\\partial x^{2}} f{\\left(x,y \\right)} & \\frac{\\partial^{2}}{\\partial x\\partial y} f{\\left(x,y \\right)}\\\\\\frac{\\partial^{2}}{\\partial y\\partial x} f{\\left(x,y \\right)} & \\frac{\\partial^{2}}{\\partial y^{2}} f{\\left(x,y \\right)}\\end{matrix}\\right]$"
      ],
      "text/plain": [
       "Eq(Hf, Matrix([\n",
       "[Derivative(f(x, y), (x, 2)),   Derivative(f(x, y), y, x)],\n",
       "[  Derivative(f(x, y), x, y), Derivative(f(x, y), (y, 2))]]))"
      ]
     },
     "metadata": {},
     "output_type": "display_data"
    },
    {
     "data": {
      "text/latex": [
       "$\\displaystyle Hf = \\left[\\begin{matrix}\\frac{\\partial^{2}}{\\partial x^{2}} \\left(3 x^{2} + 7 x + 4 y^{2}\\right) & \\frac{\\partial^{2}}{\\partial x\\partial y} \\left(3 x^{2} + 7 x + 4 y^{2}\\right)\\\\\\frac{\\partial^{2}}{\\partial y\\partial x} \\left(3 x^{2} + 7 x + 4 y^{2}\\right) & \\frac{\\partial^{2}}{\\partial y^{2}} \\left(3 x^{2} + 7 x + 4 y^{2}\\right)\\end{matrix}\\right]$"
      ],
      "text/plain": [
       "Eq(Hf, Matrix([\n",
       "[Derivative(3*x**2 + 7*x + 4*y**2, (x, 2)),   Derivative(3*x**2 + 7*x + 4*y**2, y, x)],\n",
       "[  Derivative(3*x**2 + 7*x + 4*y**2, x, y), Derivative(3*x**2 + 7*x + 4*y**2, (y, 2))]]))"
      ]
     },
     "metadata": {},
     "output_type": "display_data"
    },
    {
     "data": {
      "text/latex": [
       "$\\displaystyle Hf = \\left[\\begin{matrix}6 & 0\\\\0 & 8\\end{matrix}\\right]$"
      ],
      "text/plain": [
       "Eq(Hf, Matrix([\n",
       "[6, 0],\n",
       "[0, 8]]))"
      ]
     },
     "metadata": {},
     "output_type": "display_data"
    },
    {
     "name": "stdout",
     "output_type": "stream",
     "text": [
      "\n",
      "Step-2: Computing the step size τ\n",
      "\n",
      "τᵢ = ∇fᵢᵀ*∇fᵢ/∇fᵢᵀ*Hfᵢ*∇fᵢ\n",
      "\n"
     ]
    },
    {
     "data": {
      "text/latex": [
       "$\\displaystyle \\left(\\left[\\begin{matrix}6 x_{i} + 7\\\\8 y_{i}\\end{matrix}\\right]\\right)^{T} \\left[\\begin{matrix}6 x_{i} + 7\\\\8 y_{i}\\end{matrix}\\right] \\left(\\left(\\left[\\begin{matrix}6 x_{i} + 7\\\\8 y_{i}\\end{matrix}\\right]\\right)^{T} \\left[\\begin{matrix}6 & 0\\\\0 & 8\\end{matrix}\\right] \\left[\\begin{matrix}6 x_{i} + 7\\\\8 y_{i}\\end{matrix}\\right]\\right)^{-1}$"
      ],
      "text/plain": [
       "(Matrix([\n",
       "[6*x_i + 7],\n",
       "[    8*y_i]]).T*Matrix([\n",
       "[6*x_i + 7],\n",
       "[    8*y_i]]))*((Matrix([\n",
       "[6*x_i + 7],\n",
       "[    8*y_i]]).T*Matrix([\n",
       "[6, 0],\n",
       "[0, 8]]))*Matrix([\n",
       "[6*x_i + 7],\n",
       "[    8*y_i]]))**(-1)"
      ]
     },
     "metadata": {},
     "output_type": "display_data"
    },
    {
     "data": {
      "text/latex": [
       "$\\displaystyle τ_{i} = \\frac{64 y_{i}^{2} + \\left(6 x_{i} + 7\\right)^{2}}{512 y_{i}^{2} + \\left(6 x_{i} + 7\\right) \\left(36 x_{i} + 42\\right)}$"
      ],
      "text/plain": [
       "Eq(τ_i, (64*y_i**2 + (6*x_i + 7)**2)/(512*y_i**2 + (6*x_i + 7)*(36*x_i + 42)))"
      ]
     },
     "metadata": {},
     "output_type": "display_data"
    },
    {
     "name": "stdout",
     "output_type": "stream",
     "text": [
      "\n",
      "Step-3: Iterate the minimum point\n"
     ]
    },
    {
     "data": {
      "text/latex": [
       "$\\displaystyle x_{i + 1} = x_{i} - τ_{i} ∇f_{i}$"
      ],
      "text/plain": [
       "Eq(x_i_+_1, x_i - τ_i*∇f_i)"
      ]
     },
     "metadata": {},
     "output_type": "display_data"
    },
    {
     "data": {
      "text/latex": [
       "$\\displaystyle \\left[\\begin{matrix}x_{i + 1}\\\\y_{i + 1}\\end{matrix}\\right] = - τ_{i} \\left[\\begin{matrix}6 x_{i} + 7\\\\8 y_{i}\\end{matrix}\\right] + \\left[\\begin{matrix}x_{i}\\\\y_{i}\\end{matrix}\\right]$"
      ],
      "text/plain": [
       "Eq(Matrix([\n",
       "[x_i_+_1],\n",
       "[y_i_+_1]]), (-τ_i)*Matrix([\n",
       "[6*x_i + 7],\n",
       "[    8*y_i]]) + Matrix([\n",
       "[x_i],\n",
       "[y_i]]))"
      ]
     },
     "metadata": {},
     "output_type": "display_data"
    },
    {
     "data": {
      "text/latex": [
       "$\\displaystyle \\left[\\begin{matrix}x_{i + 1}\\\\y_{i + 1}\\end{matrix}\\right] = - \\left(64 y_{i}^{2} + \\left(6 x_{i} + 7\\right)^{2}\\right) \\frac{1}{512 y_{i}^{2} + \\left(6 x_{i} + 7\\right) \\left(36 x_{i} + 42\\right)} \\left[\\begin{matrix}6 x_{i} + 7\\\\8 y_{i}\\end{matrix}\\right] + \\left[\\begin{matrix}x_{i}\\\\y_{i}\\end{matrix}\\right]$"
      ],
      "text/plain": [
       "Eq(Matrix([\n",
       "[x_i_+_1],\n",
       "[y_i_+_1]]), (-(64*y_i**2 + (6*x_i + 7)**2)/(512*y_i**2 + (6*x_i + 7)*(36*x_i + 42)))*Matrix([\n",
       "[6*x_i + 7],\n",
       "[    8*y_i]]) + Matrix([\n",
       "[x_i],\n",
       "[y_i]]))"
      ]
     },
     "metadata": {},
     "output_type": "display_data"
    },
    {
     "data": {
      "text/latex": [
       "$\\displaystyle \\left[\\begin{matrix}x_{0}\\\\y_{0}\\end{matrix}\\right] = \\left[\\begin{matrix}1\\\\3\\end{matrix}\\right]$"
      ],
      "text/plain": [
       "Eq(Matrix([\n",
       "[x_0],\n",
       "[y_0]]), Matrix([\n",
       "[1],\n",
       "[3]]))"
      ]
     },
     "metadata": {},
     "output_type": "display_data"
    },
    {
     "name": "stdout",
     "output_type": "stream",
     "text": [
      "\n",
      "Iteration - 1:\n",
      "\n"
     ]
    },
    {
     "data": {
      "text/latex": [
       "$\\displaystyle \\left[\\begin{matrix}x_{1}\\\\y_{1}\\end{matrix}\\right] = - \\left(64 y_{0}^{2} + \\left(6 x_{0} + 7\\right)^{2}\\right) \\frac{1}{512 y_{0}^{2} + \\left(6 x_{0} + 7\\right) \\left(36 x_{0} + 42\\right)} \\left[\\begin{matrix}6 x_{0} + 7\\\\8 y_{0}\\end{matrix}\\right] + \\left[\\begin{matrix}x_{0}\\\\y_{0}\\end{matrix}\\right]$"
      ],
      "text/plain": [
       "Eq(Matrix([\n",
       "[x_1],\n",
       "[y_1]]), (-(64*y_0**2 + (6*x_0 + 7)**2)/(512*y_0**2 + (6*x_0 + 7)*(36*x_0 + 42)))*Matrix([\n",
       "[6*x_0 + 7],\n",
       "[    8*y_0]]) + Matrix([\n",
       "[x_0],\n",
       "[y_0]]))"
      ]
     },
     "metadata": {},
     "output_type": "display_data"
    },
    {
     "data": {
      "text/latex": [
       "$\\displaystyle \\left[\\begin{matrix}x_{1}\\\\y_{1}\\end{matrix}\\right] = \\left[\\begin{matrix}- \\frac{9685}{5622}\\\\- \\frac{2980}{937}\\end{matrix}\\right] + \\left[\\begin{matrix}1\\\\3\\end{matrix}\\right]$"
      ],
      "text/plain": [
       "Eq(Matrix([\n",
       "[x_1],\n",
       "[y_1]]), Matrix([\n",
       "[-9685/5622],\n",
       "[ -2980/937]]) + Matrix([\n",
       "[1],\n",
       "[3]]))"
      ]
     },
     "metadata": {},
     "output_type": "display_data"
    },
    {
     "data": {
      "text/latex": [
       "$\\displaystyle \\left[\\begin{matrix}x_{1}\\\\y_{1}\\end{matrix}\\right] = \\left[\\begin{matrix}- \\frac{4063}{5622}\\\\- \\frac{169}{937}\\end{matrix}\\right]$"
      ],
      "text/plain": [
       "Eq(Matrix([\n",
       "[x_1],\n",
       "[y_1]]), Matrix([\n",
       "[-4063/5622],\n",
       "[  -169/937]]))"
      ]
     },
     "metadata": {},
     "output_type": "display_data"
    },
    {
     "data": {
      "text/latex": [
       "$\\displaystyle \\left[\\begin{matrix}x_{1}\\\\y_{1}\\end{matrix}\\right] = \\left[\\begin{matrix}-0.7227\\\\-0.1804\\end{matrix}\\right]$"
      ],
      "text/plain": [
       "Eq(Matrix([\n",
       "[x_1],\n",
       "[y_1]]), Matrix([\n",
       "[-0.7227],\n",
       "[-0.1804]]))"
      ]
     },
     "metadata": {},
     "output_type": "display_data"
    },
    {
     "data": {
      "text/latex": [
       "$\\displaystyle f{\\left(x_{1},y_{1} \\right)} = 3 x_{1}^{2} + 7 x_{1} + 4 y_{1}^{2}$"
      ],
      "text/plain": [
       "Eq(f(x_1, y_1), 3*x_1**2 + 7*x_1 + 4*y_1**2)"
      ]
     },
     "metadata": {},
     "output_type": "display_data"
    },
    {
     "data": {
      "text/latex": [
       "$\\displaystyle f{\\left(-0.7227,-0.1804 \\right)} = -3.362$"
      ],
      "text/plain": [
       "Eq(f(-0.7227, -0.1804), -3.362)"
      ]
     },
     "metadata": {},
     "output_type": "display_data"
    },
    {
     "name": "stdout",
     "output_type": "stream",
     "text": [
      "\n",
      "Iteration - 2:\n",
      "\n"
     ]
    },
    {
     "data": {
      "text/latex": [
       "$\\displaystyle \\left[\\begin{matrix}x_{2}\\\\y_{2}\\end{matrix}\\right] = - \\left(64 y_{1}^{2} + \\left(6 x_{1} + 7\\right)^{2}\\right) \\frac{1}{512 y_{1}^{2} + \\left(6 x_{1} + 7\\right) \\left(36 x_{1} + 42\\right)} \\left[\\begin{matrix}6 x_{1} + 7\\\\8 y_{1}\\end{matrix}\\right] + \\left[\\begin{matrix}x_{1}\\\\y_{1}\\end{matrix}\\right]$"
      ],
      "text/plain": [
       "Eq(Matrix([\n",
       "[x_2],\n",
       "[y_2]]), (-(64*y_1**2 + (6*x_1 + 7)**2)/(512*y_1**2 + (6*x_1 + 7)*(36*x_1 + 42)))*Matrix([\n",
       "[6*x_1 + 7],\n",
       "[    8*y_1]]) + Matrix([\n",
       "[x_1],\n",
       "[y_1]]))"
      ]
     },
     "metadata": {},
     "output_type": "display_data"
    },
    {
     "data": {
      "text/latex": [
       "$\\displaystyle \\left[\\begin{matrix}x_{2}\\\\y_{2}\\end{matrix}\\right] = \\left[\\begin{matrix}-0.7227\\\\-0.1804\\end{matrix}\\right] + \\left[\\begin{matrix}-0.4128\\\\0.2236\\end{matrix}\\right]$"
      ],
      "text/plain": [
       "Eq(Matrix([\n",
       "[x_2],\n",
       "[y_2]]), Matrix([\n",
       "[-0.7227],\n",
       "[-0.1804]]) + Matrix([\n",
       "[-0.4128],\n",
       "[ 0.2236]]))"
      ]
     },
     "metadata": {},
     "output_type": "display_data"
    },
    {
     "data": {
      "text/latex": [
       "$\\displaystyle \\left[\\begin{matrix}x_{2}\\\\y_{2}\\end{matrix}\\right] = \\left[\\begin{matrix}-1.135\\\\0.04322\\end{matrix}\\right]$"
      ],
      "text/plain": [
       "Eq(Matrix([\n",
       "[x_2],\n",
       "[y_2]]), Matrix([\n",
       "[ -1.135],\n",
       "[0.04322]]))"
      ]
     },
     "metadata": {},
     "output_type": "display_data"
    },
    {
     "data": {
      "text/latex": [
       "$\\displaystyle f{\\left(x_{2},y_{2} \\right)} = 3 x_{2}^{2} + 7 x_{2} + 4 y_{2}^{2}$"
      ],
      "text/plain": [
       "Eq(f(x_2, y_2), 3*x_2**2 + 7*x_2 + 4*y_2**2)"
      ]
     },
     "metadata": {},
     "output_type": "display_data"
    },
    {
     "data": {
      "text/latex": [
       "$\\displaystyle f{\\left(-1.135,0.04322 \\right)} = -4.073$"
      ],
      "text/plain": [
       "Eq(f(-1.135, 0.04322), -4.073)"
      ]
     },
     "metadata": {},
     "output_type": "display_data"
    },
    {
     "name": "stdout",
     "output_type": "stream",
     "text": [
      "\n",
      "Iteration - 3:\n",
      "\n"
     ]
    },
    {
     "data": {
      "text/latex": [
       "$\\displaystyle \\left[\\begin{matrix}x_{3}\\\\y_{3}\\end{matrix}\\right] = - \\left(64 y_{2}^{2} + \\left(6 x_{2} + 7\\right)^{2}\\right) \\frac{1}{512 y_{2}^{2} + \\left(6 x_{2} + 7\\right) \\left(36 x_{2} + 42\\right)} \\left[\\begin{matrix}6 x_{2} + 7\\\\8 y_{2}\\end{matrix}\\right] + \\left[\\begin{matrix}x_{2}\\\\y_{2}\\end{matrix}\\right]$"
      ],
      "text/plain": [
       "Eq(Matrix([\n",
       "[x_3],\n",
       "[y_3]]), (-(64*y_2**2 + (6*x_2 + 7)**2)/(512*y_2**2 + (6*x_2 + 7)*(36*x_2 + 42)))*Matrix([\n",
       "[6*x_2 + 7],\n",
       "[    8*y_2]]) + Matrix([\n",
       "[x_2],\n",
       "[y_2]]))"
      ]
     },
     "metadata": {},
     "output_type": "display_data"
    },
    {
     "data": {
      "text/latex": [
       "$\\displaystyle \\left[\\begin{matrix}x_{3}\\\\y_{3}\\end{matrix}\\right] = \\left[\\begin{matrix}-1.135\\\\0.04322\\end{matrix}\\right] + \\left[\\begin{matrix}-0.02481\\\\-0.04581\\end{matrix}\\right]$"
      ],
      "text/plain": [
       "Eq(Matrix([\n",
       "[x_3],\n",
       "[y_3]]), Matrix([\n",
       "[ -1.135],\n",
       "[0.04322]]) + Matrix([\n",
       "[-0.02481],\n",
       "[-0.04581]]))"
      ]
     },
     "metadata": {},
     "output_type": "display_data"
    },
    {
     "data": {
      "text/latex": [
       "$\\displaystyle \\left[\\begin{matrix}x_{3}\\\\y_{3}\\end{matrix}\\right] = \\left[\\begin{matrix}-1.16\\\\-0.002598\\end{matrix}\\right]$"
      ],
      "text/plain": [
       "Eq(Matrix([\n",
       "[x_3],\n",
       "[y_3]]), Matrix([\n",
       "[    -1.16],\n",
       "[-0.002598]]))"
      ]
     },
     "metadata": {},
     "output_type": "display_data"
    },
    {
     "data": {
      "text/latex": [
       "$\\displaystyle f{\\left(x_{3},y_{3} \\right)} = 3 x_{3}^{2} + 7 x_{3} + 4 y_{3}^{2}$"
      ],
      "text/plain": [
       "Eq(f(x_3, y_3), 3*x_3**2 + 7*x_3 + 4*y_3**2)"
      ]
     },
     "metadata": {},
     "output_type": "display_data"
    },
    {
     "data": {
      "text/latex": [
       "$\\displaystyle f{\\left(-1.16,-0.002598 \\right)} = -4.083$"
      ],
      "text/plain": [
       "Eq(f(-1.16, -0.002598), -4.083)"
      ]
     },
     "metadata": {},
     "output_type": "display_data"
    },
    {
     "name": "stdout",
     "output_type": "stream",
     "text": [
      "\n",
      "Iteration - 4:\n",
      "\n"
     ]
    },
    {
     "data": {
      "text/latex": [
       "$\\displaystyle \\left[\\begin{matrix}x_{4}\\\\y_{4}\\end{matrix}\\right] = - \\left(64 y_{3}^{2} + \\left(6 x_{3} + 7\\right)^{2}\\right) \\frac{1}{512 y_{3}^{2} + \\left(6 x_{3} + 7\\right) \\left(36 x_{3} + 42\\right)} \\left[\\begin{matrix}6 x_{3} + 7\\\\8 y_{3}\\end{matrix}\\right] + \\left[\\begin{matrix}x_{3}\\\\y_{3}\\end{matrix}\\right]$"
      ],
      "text/plain": [
       "Eq(Matrix([\n",
       "[x_4],\n",
       "[y_4]]), (-(64*y_3**2 + (6*x_3 + 7)**2)/(512*y_3**2 + (6*x_3 + 7)*(36*x_3 + 42)))*Matrix([\n",
       "[6*x_3 + 7],\n",
       "[    8*y_3]]) + Matrix([\n",
       "[x_3],\n",
       "[y_3]]))"
      ]
     },
     "metadata": {},
     "output_type": "display_data"
    },
    {
     "data": {
      "text/latex": [
       "$\\displaystyle \\left[\\begin{matrix}x_{4}\\\\y_{4}\\end{matrix}\\right] = \\left[\\begin{matrix}-1.16\\\\-0.002598\\end{matrix}\\right] + \\left[\\begin{matrix}-0.005964\\\\0.003224\\end{matrix}\\right]$"
      ],
      "text/plain": [
       "Eq(Matrix([\n",
       "[x_4],\n",
       "[y_4]]), Matrix([\n",
       "[    -1.16],\n",
       "[-0.002598]]) + Matrix([\n",
       "[-0.005964],\n",
       "[ 0.003224]]))"
      ]
     },
     "metadata": {},
     "output_type": "display_data"
    },
    {
     "data": {
      "text/latex": [
       "$\\displaystyle \\left[\\begin{matrix}x_{4}\\\\y_{4}\\end{matrix}\\right] = \\left[\\begin{matrix}-1.166\\\\0.0006257\\end{matrix}\\right]$"
      ],
      "text/plain": [
       "Eq(Matrix([\n",
       "[x_4],\n",
       "[y_4]]), Matrix([\n",
       "[   -1.166],\n",
       "[0.0006257]]))"
      ]
     },
     "metadata": {},
     "output_type": "display_data"
    },
    {
     "data": {
      "text/latex": [
       "$\\displaystyle f{\\left(x_{4},y_{4} \\right)} = 3 x_{4}^{2} + 7 x_{4} + 4 y_{4}^{2}$"
      ],
      "text/plain": [
       "Eq(f(x_4, y_4), 3*x_4**2 + 7*x_4 + 4*y_4**2)"
      ]
     },
     "metadata": {},
     "output_type": "display_data"
    },
    {
     "data": {
      "text/latex": [
       "$\\displaystyle f{\\left(-1.166,0.0006257 \\right)} = -4.083$"
      ],
      "text/plain": [
       "Eq(f(-1.166, 0.0006257), -4.083)"
      ]
     },
     "metadata": {},
     "output_type": "display_data"
    },
    {
     "name": "stdout",
     "output_type": "stream",
     "text": [
      "\n",
      "Iteration - 5:\n",
      "\n"
     ]
    },
    {
     "data": {
      "text/latex": [
       "$\\displaystyle \\left[\\begin{matrix}x_{5}\\\\y_{5}\\end{matrix}\\right] = - \\left(64 y_{4}^{2} + \\left(6 x_{4} + 7\\right)^{2}\\right) \\frac{1}{512 y_{4}^{2} + \\left(6 x_{4} + 7\\right) \\left(36 x_{4} + 42\\right)} \\left[\\begin{matrix}6 x_{4} + 7\\\\8 y_{4}\\end{matrix}\\right] + \\left[\\begin{matrix}x_{4}\\\\y_{4}\\end{matrix}\\right]$"
      ],
      "text/plain": [
       "Eq(Matrix([\n",
       "[x_5],\n",
       "[y_5]]), (-(64*y_4**2 + (6*x_4 + 7)**2)/(512*y_4**2 + (6*x_4 + 7)*(36*x_4 + 42)))*Matrix([\n",
       "[6*x_4 + 7],\n",
       "[    8*y_4]]) + Matrix([\n",
       "[x_4],\n",
       "[y_4]]))"
      ]
     },
     "metadata": {},
     "output_type": "display_data"
    },
    {
     "data": {
      "text/latex": [
       "$\\displaystyle \\left[\\begin{matrix}x_{5}\\\\y_{5}\\end{matrix}\\right] = \\left[\\begin{matrix}-1.166\\\\0.0006257\\end{matrix}\\right] + \\left[\\begin{matrix}-0.0003472\\\\-0.0006622\\end{matrix}\\right]$"
      ],
      "text/plain": [
       "Eq(Matrix([\n",
       "[x_5],\n",
       "[y_5]]), Matrix([\n",
       "[   -1.166],\n",
       "[0.0006257]]) + Matrix([\n",
       "[-0.0003472],\n",
       "[-0.0006622]]))"
      ]
     },
     "metadata": {},
     "output_type": "display_data"
    },
    {
     "data": {
      "text/latex": [
       "$\\displaystyle \\left[\\begin{matrix}x_{5}\\\\y_{5}\\end{matrix}\\right] = \\left[\\begin{matrix}-1.167\\\\-3.654 \\cdot 10^{-5}\\end{matrix}\\right]$"
      ],
      "text/plain": [
       "Eq(Matrix([\n",
       "[x_5],\n",
       "[y_5]]), Matrix([\n",
       "[   -1.167],\n",
       "[-3.654e-5]]))"
      ]
     },
     "metadata": {},
     "output_type": "display_data"
    },
    {
     "data": {
      "text/latex": [
       "$\\displaystyle f{\\left(x_{5},y_{5} \\right)} = 3 x_{5}^{2} + 7 x_{5} + 4 y_{5}^{2}$"
      ],
      "text/plain": [
       "Eq(f(x_5, y_5), 3*x_5**2 + 7*x_5 + 4*y_5**2)"
      ]
     },
     "metadata": {},
     "output_type": "display_data"
    },
    {
     "data": {
      "text/latex": [
       "$\\displaystyle f{\\left(-1.167,-3.654 \\cdot 10^{-5} \\right)} = -4.083$"
      ],
      "text/plain": [
       "Eq(f(-1.167, -3.654e-5), -4.083)"
      ]
     },
     "metadata": {},
     "output_type": "display_data"
    },
    {
     "name": "stdout",
     "output_type": "stream",
     "text": [
      "\n",
      "Iteration - 6:\n",
      "\n"
     ]
    },
    {
     "data": {
      "text/latex": [
       "$\\displaystyle \\left[\\begin{matrix}x_{6}\\\\y_{6}\\end{matrix}\\right] = - \\left(64 y_{5}^{2} + \\left(6 x_{5} + 7\\right)^{2}\\right) \\frac{1}{512 y_{5}^{2} + \\left(6 x_{5} + 7\\right) \\left(36 x_{5} + 42\\right)} \\left[\\begin{matrix}6 x_{5} + 7\\\\8 y_{5}\\end{matrix}\\right] + \\left[\\begin{matrix}x_{5}\\\\y_{5}\\end{matrix}\\right]$"
      ],
      "text/plain": [
       "Eq(Matrix([\n",
       "[x_6],\n",
       "[y_6]]), (-(64*y_5**2 + (6*x_5 + 7)**2)/(512*y_5**2 + (6*x_5 + 7)*(36*x_5 + 42)))*Matrix([\n",
       "[6*x_5 + 7],\n",
       "[    8*y_5]]) + Matrix([\n",
       "[x_5],\n",
       "[y_5]]))"
      ]
     },
     "metadata": {},
     "output_type": "display_data"
    },
    {
     "data": {
      "text/latex": [
       "$\\displaystyle \\left[\\begin{matrix}x_{6}\\\\y_{6}\\end{matrix}\\right] = \\left[\\begin{matrix}-1.167\\\\-3.654 \\cdot 10^{-5}\\end{matrix}\\right] + \\left[\\begin{matrix}-7.48 \\cdot 10^{-5}\\\\4.478 \\cdot 10^{-5}\\end{matrix}\\right]$"
      ],
      "text/plain": [
       "Eq(Matrix([\n",
       "[x_6],\n",
       "[y_6]]), Matrix([\n",
       "[   -1.167],\n",
       "[-3.654e-5]]) + Matrix([\n",
       "[-7.48e-5],\n",
       "[4.478e-5]]))"
      ]
     },
     "metadata": {},
     "output_type": "display_data"
    },
    {
     "data": {
      "text/latex": [
       "$\\displaystyle \\left[\\begin{matrix}x_{6}\\\\y_{6}\\end{matrix}\\right] = \\left[\\begin{matrix}-1.167\\\\8.241 \\cdot 10^{-6}\\end{matrix}\\right]$"
      ],
      "text/plain": [
       "Eq(Matrix([\n",
       "[x_6],\n",
       "[y_6]]), Matrix([\n",
       "[  -1.167],\n",
       "[8.241e-6]]))"
      ]
     },
     "metadata": {},
     "output_type": "display_data"
    },
    {
     "data": {
      "text/latex": [
       "$\\displaystyle f{\\left(x_{6},y_{6} \\right)} = 3 x_{6}^{2} + 7 x_{6} + 4 y_{6}^{2}$"
      ],
      "text/plain": [
       "Eq(f(x_6, y_6), 3*x_6**2 + 7*x_6 + 4*y_6**2)"
      ]
     },
     "metadata": {},
     "output_type": "display_data"
    },
    {
     "data": {
      "text/latex": [
       "$\\displaystyle f{\\left(-1.167,8.241 \\cdot 10^{-6} \\right)} = -4.083$"
      ],
      "text/plain": [
       "Eq(f(-1.167, 8.241e-6), -4.083)"
      ]
     },
     "metadata": {},
     "output_type": "display_data"
    },
    {
     "name": "stdout",
     "output_type": "stream",
     "text": [
      "\n",
      "Iteration - 7:\n",
      "\n"
     ]
    },
    {
     "data": {
      "text/latex": [
       "$\\displaystyle \\left[\\begin{matrix}x_{7}\\\\y_{7}\\end{matrix}\\right] = - \\left(64 y_{6}^{2} + \\left(6 x_{6} + 7\\right)^{2}\\right) \\frac{1}{512 y_{6}^{2} + \\left(6 x_{6} + 7\\right) \\left(36 x_{6} + 42\\right)} \\left[\\begin{matrix}6 x_{6} + 7\\\\8 y_{6}\\end{matrix}\\right] + \\left[\\begin{matrix}x_{6}\\\\y_{6}\\end{matrix}\\right]$"
      ],
      "text/plain": [
       "Eq(Matrix([\n",
       "[x_7],\n",
       "[y_7]]), (-(64*y_6**2 + (6*x_6 + 7)**2)/(512*y_6**2 + (6*x_6 + 7)*(36*x_6 + 42)))*Matrix([\n",
       "[6*x_6 + 7],\n",
       "[    8*y_6]]) + Matrix([\n",
       "[x_6],\n",
       "[y_6]]))"
      ]
     },
     "metadata": {},
     "output_type": "display_data"
    },
    {
     "data": {
      "text/latex": [
       "$\\displaystyle \\left[\\begin{matrix}x_{7}\\\\y_{7}\\end{matrix}\\right] = \\left[\\begin{matrix}-1.167\\\\8.241 \\cdot 10^{-6}\\end{matrix}\\right] + \\left[\\begin{matrix}-7.629 \\cdot 10^{-6}\\\\-8.241 \\cdot 10^{-6}\\end{matrix}\\right]$"
      ],
      "text/plain": [
       "Eq(Matrix([\n",
       "[x_7],\n",
       "[y_7]]), Matrix([\n",
       "[  -1.167],\n",
       "[8.241e-6]]) + Matrix([\n",
       "[-7.629e-6],\n",
       "[-8.241e-6]]))"
      ]
     },
     "metadata": {},
     "output_type": "display_data"
    },
    {
     "data": {
      "text/latex": [
       "$\\displaystyle \\left[\\begin{matrix}x_{7}\\\\y_{7}\\end{matrix}\\right] = \\left[\\begin{matrix}-1.167\\\\0\\end{matrix}\\right]$"
      ],
      "text/plain": [
       "Eq(Matrix([\n",
       "[x_7],\n",
       "[y_7]]), Matrix([\n",
       "[-1.167],\n",
       "[     0]]))"
      ]
     },
     "metadata": {},
     "output_type": "display_data"
    },
    {
     "data": {
      "text/latex": [
       "$\\displaystyle f{\\left(x_{7},y_{7} \\right)} = 3 x_{7}^{2} + 7 x_{7} + 4 y_{7}^{2}$"
      ],
      "text/plain": [
       "Eq(f(x_7, y_7), 3*x_7**2 + 7*x_7 + 4*y_7**2)"
      ]
     },
     "metadata": {},
     "output_type": "display_data"
    },
    {
     "data": {
      "text/latex": [
       "$\\displaystyle f{\\left(-1.167,0 \\right)} = -4.083$"
      ],
      "text/plain": [
       "Eq(f(-1.167, 0), -4.083)"
      ]
     },
     "metadata": {},
     "output_type": "display_data"
    },
    {
     "name": "stdout",
     "output_type": "stream",
     "text": [
      "\n",
      "Iteration - 8:\n",
      "\n"
     ]
    },
    {
     "data": {
      "text/latex": [
       "$\\displaystyle \\left[\\begin{matrix}x_{8}\\\\y_{8}\\end{matrix}\\right] = - \\left(64 y_{7}^{2} + \\left(6 x_{7} + 7\\right)^{2}\\right) \\frac{1}{512 y_{7}^{2} + \\left(6 x_{7} + 7\\right) \\left(36 x_{7} + 42\\right)} \\left[\\begin{matrix}6 x_{7} + 7\\\\8 y_{7}\\end{matrix}\\right] + \\left[\\begin{matrix}x_{7}\\\\y_{7}\\end{matrix}\\right]$"
      ],
      "text/plain": [
       "Eq(Matrix([\n",
       "[x_8],\n",
       "[y_8]]), (-(64*y_7**2 + (6*x_7 + 7)**2)/(512*y_7**2 + (6*x_7 + 7)*(36*x_7 + 42)))*Matrix([\n",
       "[6*x_7 + 7],\n",
       "[    8*y_7]]) + Matrix([\n",
       "[x_7],\n",
       "[y_7]]))"
      ]
     },
     "metadata": {},
     "output_type": "display_data"
    },
    {
     "data": {
      "text/latex": [
       "$\\displaystyle \\left[\\begin{matrix}x_{8}\\\\y_{8}\\end{matrix}\\right] = \\left[\\begin{matrix}-1.167\\\\0\\end{matrix}\\right] + \\left[\\begin{matrix}-7.629 \\cdot 10^{-6}\\\\0\\end{matrix}\\right]$"
      ],
      "text/plain": [
       "Eq(Matrix([\n",
       "[x_8],\n",
       "[y_8]]), Matrix([\n",
       "[-1.167],\n",
       "[     0]]) + Matrix([\n",
       "[-7.629e-6],\n",
       "[        0]]))"
      ]
     },
     "metadata": {},
     "output_type": "display_data"
    },
    {
     "data": {
      "text/latex": [
       "$\\displaystyle \\left[\\begin{matrix}x_{8}\\\\y_{8}\\end{matrix}\\right] = \\left[\\begin{matrix}-1.167\\\\0\\end{matrix}\\right]$"
      ],
      "text/plain": [
       "Eq(Matrix([\n",
       "[x_8],\n",
       "[y_8]]), Matrix([\n",
       "[-1.167],\n",
       "[     0]]))"
      ]
     },
     "metadata": {},
     "output_type": "display_data"
    },
    {
     "data": {
      "text/latex": [
       "$\\displaystyle f{\\left(x_{8},y_{8} \\right)} = 3 x_{8}^{2} + 7 x_{8} + 4 y_{8}^{2}$"
      ],
      "text/plain": [
       "Eq(f(x_8, y_8), 3*x_8**2 + 7*x_8 + 4*y_8**2)"
      ]
     },
     "metadata": {},
     "output_type": "display_data"
    },
    {
     "data": {
      "text/latex": [
       "$\\displaystyle f{\\left(-1.167,0 \\right)} = -4.083$"
      ],
      "text/plain": [
       "Eq(f(-1.167, 0), -4.083)"
      ]
     },
     "metadata": {},
     "output_type": "display_data"
    },
    {
     "name": "stdout",
     "output_type": "stream",
     "text": [
      "\n",
      "Iteration - 9:\n",
      "\n"
     ]
    },
    {
     "data": {
      "text/latex": [
       "$\\displaystyle \\left[\\begin{matrix}x_{9}\\\\y_{9}\\end{matrix}\\right] = - \\left(64 y_{8}^{2} + \\left(6 x_{8} + 7\\right)^{2}\\right) \\frac{1}{512 y_{8}^{2} + \\left(6 x_{8} + 7\\right) \\left(36 x_{8} + 42\\right)} \\left[\\begin{matrix}6 x_{8} + 7\\\\8 y_{8}\\end{matrix}\\right] + \\left[\\begin{matrix}x_{8}\\\\y_{8}\\end{matrix}\\right]$"
      ],
      "text/plain": [
       "Eq(Matrix([\n",
       "[x_9],\n",
       "[y_9]]), (-(64*y_8**2 + (6*x_8 + 7)**2)/(512*y_8**2 + (6*x_8 + 7)*(36*x_8 + 42)))*Matrix([\n",
       "[6*x_8 + 7],\n",
       "[    8*y_8]]) + Matrix([\n",
       "[x_8],\n",
       "[y_8]]))"
      ]
     },
     "metadata": {},
     "output_type": "display_data"
    },
    {
     "data": {
      "text/latex": [
       "$\\displaystyle \\left[\\begin{matrix}x_{9}\\\\y_{9}\\end{matrix}\\right] = \\left[\\begin{matrix}-1.167\\\\0\\end{matrix}\\right] + \\left[\\begin{matrix}-7.629 \\cdot 10^{-6}\\\\0\\end{matrix}\\right]$"
      ],
      "text/plain": [
       "Eq(Matrix([\n",
       "[x_9],\n",
       "[y_9]]), Matrix([\n",
       "[-1.167],\n",
       "[     0]]) + Matrix([\n",
       "[-7.629e-6],\n",
       "[        0]]))"
      ]
     },
     "metadata": {},
     "output_type": "display_data"
    },
    {
     "data": {
      "text/latex": [
       "$\\displaystyle \\left[\\begin{matrix}x_{9}\\\\y_{9}\\end{matrix}\\right] = \\left[\\begin{matrix}-1.167\\\\0\\end{matrix}\\right]$"
      ],
      "text/plain": [
       "Eq(Matrix([\n",
       "[x_9],\n",
       "[y_9]]), Matrix([\n",
       "[-1.167],\n",
       "[     0]]))"
      ]
     },
     "metadata": {},
     "output_type": "display_data"
    },
    {
     "data": {
      "text/latex": [
       "$\\displaystyle f{\\left(x_{9},y_{9} \\right)} = 3 x_{9}^{2} + 7 x_{9} + 4 y_{9}^{2}$"
      ],
      "text/plain": [
       "Eq(f(x_9, y_9), 3*x_9**2 + 7*x_9 + 4*y_9**2)"
      ]
     },
     "metadata": {},
     "output_type": "display_data"
    },
    {
     "data": {
      "text/latex": [
       "$\\displaystyle f{\\left(-1.167,0 \\right)} = -4.083$"
      ],
      "text/plain": [
       "Eq(f(-1.167, 0), -4.083)"
      ]
     },
     "metadata": {},
     "output_type": "display_data"
    },
    {
     "name": "stdout",
     "output_type": "stream",
     "text": [
      "\n",
      "Iteration - 10:\n",
      "\n"
     ]
    },
    {
     "data": {
      "text/latex": [
       "$\\displaystyle \\left[\\begin{matrix}x_{10}\\\\y_{10}\\end{matrix}\\right] = - \\left(64 y_{9}^{2} + \\left(6 x_{9} + 7\\right)^{2}\\right) \\frac{1}{512 y_{9}^{2} + \\left(6 x_{9} + 7\\right) \\left(36 x_{9} + 42\\right)} \\left[\\begin{matrix}6 x_{9} + 7\\\\8 y_{9}\\end{matrix}\\right] + \\left[\\begin{matrix}x_{9}\\\\y_{9}\\end{matrix}\\right]$"
      ],
      "text/plain": [
       "Eq(Matrix([\n",
       "[x_10],\n",
       "[y_10]]), (-(64*y_9**2 + (6*x_9 + 7)**2)/(512*y_9**2 + (6*x_9 + 7)*(36*x_9 + 42)))*Matrix([\n",
       "[6*x_9 + 7],\n",
       "[    8*y_9]]) + Matrix([\n",
       "[x_9],\n",
       "[y_9]]))"
      ]
     },
     "metadata": {},
     "output_type": "display_data"
    },
    {
     "data": {
      "text/latex": [
       "$\\displaystyle \\left[\\begin{matrix}x_{10}\\\\y_{10}\\end{matrix}\\right] = \\left[\\begin{matrix}-1.167\\\\0\\end{matrix}\\right] + \\left[\\begin{matrix}-7.629 \\cdot 10^{-6}\\\\0\\end{matrix}\\right]$"
      ],
      "text/plain": [
       "Eq(Matrix([\n",
       "[x_10],\n",
       "[y_10]]), Matrix([\n",
       "[-1.167],\n",
       "[     0]]) + Matrix([\n",
       "[-7.629e-6],\n",
       "[        0]]))"
      ]
     },
     "metadata": {},
     "output_type": "display_data"
    },
    {
     "data": {
      "text/latex": [
       "$\\displaystyle \\left[\\begin{matrix}x_{10}\\\\y_{10}\\end{matrix}\\right] = \\left[\\begin{matrix}-1.167\\\\0\\end{matrix}\\right]$"
      ],
      "text/plain": [
       "Eq(Matrix([\n",
       "[x_10],\n",
       "[y_10]]), Matrix([\n",
       "[-1.167],\n",
       "[     0]]))"
      ]
     },
     "metadata": {},
     "output_type": "display_data"
    },
    {
     "data": {
      "text/latex": [
       "$\\displaystyle f{\\left(x_{10},y_{10} \\right)} = 3 x_{10}^{2} + 7 x_{10} + 4 y_{10}^{2}$"
      ],
      "text/plain": [
       "Eq(f(x_10, y_10), 3*x_10**2 + 7*x_10 + 4*y_10**2)"
      ]
     },
     "metadata": {},
     "output_type": "display_data"
    },
    {
     "data": {
      "text/latex": [
       "$\\displaystyle f{\\left(-1.167,0 \\right)} = -4.083$"
      ],
      "text/plain": [
       "Eq(f(-1.167, 0), -4.083)"
      ]
     },
     "metadata": {},
     "output_type": "display_data"
    }
   ],
   "source": [
    "steepest_descent(str_expr='3*x**2 + 4*y**2 + 7*x' , str_symbols= 'x y', x_init=[1,3], \n",
    "                 tau=None, n_iter=10, rounding_digit = 4)"
   ]
  },
  {
   "cell_type": "code",
   "execution_count": 176,
   "id": "c8c06a65",
   "metadata": {},
   "outputs": [
    {
     "data": {
      "text/plain": [
       "[x1_1, x2_1]"
      ]
     },
     "execution_count": 176,
     "metadata": {},
     "output_type": "execute_result"
    }
   ],
   "source": [
    "str_symbols= 'x1 x2'\n",
    "sym_list = str_symbols.split()\n",
    "[Symbol(f'{t}_{1}') for t in sym_list]"
   ]
  },
  {
   "cell_type": "code",
   "execution_count": 171,
   "id": "6d0fac1f",
   "metadata": {},
   "outputs": [
    {
     "data": {
      "text/plain": [
       "['x', '1', 'x', '2']"
      ]
     },
     "execution_count": 171,
     "metadata": {},
     "output_type": "execute_result"
    }
   ],
   "source": [
    "sym_list"
   ]
  },
  {
   "cell_type": "code",
   "execution_count": 173,
   "id": "ad3f9d2c",
   "metadata": {},
   "outputs": [
    {
     "data": {
      "text/plain": [
       "['x1', 'x2']"
      ]
     },
     "execution_count": 173,
     "metadata": {},
     "output_type": "execute_result"
    }
   ],
   "source": [
    "'x1 x2'.split()"
   ]
  },
  {
   "cell_type": "code",
   "execution_count": null,
   "id": "a6968dfe",
   "metadata": {},
   "outputs": [],
   "source": []
  }
 ],
 "metadata": {
  "kernelspec": {
   "display_name": "Python 3",
   "language": "python",
   "name": "python3"
  },
  "language_info": {
   "codemirror_mode": {
    "name": "ipython",
    "version": 3
   },
   "file_extension": ".py",
   "mimetype": "text/x-python",
   "name": "python",
   "nbconvert_exporter": "python",
   "pygments_lexer": "ipython3",
   "version": "3.9.1"
  }
 },
 "nbformat": 4,
 "nbformat_minor": 5
}
