{
 "cells": [
  {
   "cell_type": "code",
   "execution_count": 1,
   "id": "outdoor-habitat",
   "metadata": {},
   "outputs": [],
   "source": [
    "from sympy import *\n",
    "from sympy.parsing.sympy_parser import parse_expr\n",
    "from sympy.solvers.solveset import linsolve\n",
    "from sympy.solvers import solve_poly_system\n",
    "import numpy as np"
   ]
  },
  {
   "cell_type": "code",
   "execution_count": 2,
   "id": "iraqi-mayor",
   "metadata": {},
   "outputs": [],
   "source": [
    "def hessian(str_expr, str_symbols):\n",
    "    sym = symbols(str_symbols)\n",
    "    f = Function('f')(*sym)\n",
    "    \n",
    "    expr = parse_expr(str_expr)\n",
    "    print('The function is')\n",
    "    display(Eq(f,expr))\n",
    "    grad = MatrixSymbol('\\u2207f',len(sym),1)\n",
    "    print('\\nFinding gradient of the function')\n",
    "    display(Eq(grad, Matrix([Derivative(f,x) for x in sym])))\n",
    "    display(Eq(grad, Matrix([Derivative(expr,x) for x in sym])))\n",
    "    grad_m = Matrix([diff(expr,x) for x in sym])\n",
    "    display(Eq(grad, grad_m))\n",
    "    print('\\nTo find maxima/ minina, equate the gradient to zero to find critical points')\n",
    "    \n",
    "    display(Eq(grad_m, zeros(len(sym),1)))\n",
    "    res = solve_poly_system(grad_m, sym)\n",
    "    #display(solve_poly_system(grad_m, sym))\n",
    "#     print('\\nWe get:')\n",
    "#     for i,s in enumerate(sym):\n",
    "#         display(Eq(s,res[i]))\n",
    "    print('\\nThe critical points are:')\n",
    "    for i,c in enumerate(res):\n",
    "        #display( Matrix(c))\n",
    "        display(Eq(MatrixSymbol(f'c{i+1}', len(sym),1), Matrix(c)))\n",
    "    #display(Matrix(res))\n",
    "    \n",
    "    print('\\nCreating the Hessian Matrix')\n",
    "    hess = MatrixSymbol('Hf',len(sym),len(sym))\n",
    "    hess_m_f = zeros(len(sym))\n",
    "    hess_m_expr = zeros(len(sym))\n",
    "    hess_m = zeros(len(sym))\n",
    "    for i,x in enumerate(sym):\n",
    "        for j,y in enumerate(sym):\n",
    "            hess_m_f[i,j] = Derivative(Derivative(f,y),x)\n",
    "            hess_m_expr[i,j] = Derivative(Derivative(expr,y),x)\n",
    "            hess_m[i,j] = diff(diff(expr,y),x)\n",
    "    display(Eq(hess,hess_m_f))  \n",
    "    display(Eq(hess,hess_m_expr)) \n",
    "    display(Eq(hess,hess_m))\n",
    "    print('\\nSubstituting the critical point values in Hessian Matrix')\n",
    "    for i,c in enumerate(res):\n",
    "        print('\\n\\nFor')\n",
    "        display(Eq(MatrixSymbol(f'c{i+1}', len(sym),1), Matrix(c)))\n",
    "        h_m = hess_m.subs([(s,v) for s,v in zip(sym, res[i])])\n",
    "        display(Eq(hess,h_m))\n",
    "        e_vals = list(h_m.eigenvals())\n",
    "        print('EigenValues  of hessian matrix are')\n",
    "        for i,e in enumerate(e_vals):\n",
    "            display(Eq(Symbol(f'e{i+1}'), e))\n",
    "        if np.all(np.array(e_vals)>0):\n",
    "            print('Since All eigenvalues are positive, we have local minima at the critical point')\n",
    "        elif np.all(np.array(e_vals)<0):\n",
    "            print('Since All eigenvalues are negative, we have local maxima at the critical point')\n",
    "        else:\n",
    "            print('Since All eigenvalues are neither positive nor negative,  the critical point is a saddle point')"
   ]
  },
  {
   "cell_type": "code",
   "execution_count": 3,
   "id": "liberal-curve",
   "metadata": {},
   "outputs": [
    {
     "name": "stdout",
     "output_type": "stream",
     "text": [
      "The function is\n"
     ]
    },
    {
     "data": {
      "text/latex": [
       "$\\displaystyle f{\\left(x_{1},x_{2} \\right)} = x_{1}^{3} + 2 x_{1} x_{2} + 4 x_{2}$"
      ],
      "text/plain": [
       "Eq(f(x1, x2), x1**3 + 2*x1*x2 + 4*x2)"
      ]
     },
     "metadata": {},
     "output_type": "display_data"
    },
    {
     "name": "stdout",
     "output_type": "stream",
     "text": [
      "\n",
      "Finding gradient of the function\n"
     ]
    },
    {
     "data": {
      "text/latex": [
       "$\\displaystyle ∇f = \\left[\\begin{matrix}\\frac{\\partial}{\\partial x_{1}} f{\\left(x_{1},x_{2} \\right)}\\\\\\frac{\\partial}{\\partial x_{2}} f{\\left(x_{1},x_{2} \\right)}\\end{matrix}\\right]$"
      ],
      "text/plain": [
       "Eq(∇f, Matrix([\n",
       "[Derivative(f(x1, x2), x1)],\n",
       "[Derivative(f(x1, x2), x2)]]))"
      ]
     },
     "metadata": {},
     "output_type": "display_data"
    },
    {
     "data": {
      "text/latex": [
       "$\\displaystyle ∇f = \\left[\\begin{matrix}\\frac{\\partial}{\\partial x_{1}} \\left(x_{1}^{3} + 2 x_{1} x_{2} + 4 x_{2}\\right)\\\\\\frac{\\partial}{\\partial x_{2}} \\left(x_{1}^{3} + 2 x_{1} x_{2} + 4 x_{2}\\right)\\end{matrix}\\right]$"
      ],
      "text/plain": [
       "Eq(∇f, Matrix([\n",
       "[Derivative(x1**3 + 2*x1*x2 + 4*x2, x1)],\n",
       "[Derivative(x1**3 + 2*x1*x2 + 4*x2, x2)]]))"
      ]
     },
     "metadata": {},
     "output_type": "display_data"
    },
    {
     "data": {
      "text/latex": [
       "$\\displaystyle ∇f = \\left[\\begin{matrix}3 x_{1}^{2} + 2 x_{2}\\\\2 x_{1} + 4\\end{matrix}\\right]$"
      ],
      "text/plain": [
       "Eq(∇f, Matrix([\n",
       "[3*x1**2 + 2*x2],\n",
       "[      2*x1 + 4]]))"
      ]
     },
     "metadata": {},
     "output_type": "display_data"
    },
    {
     "name": "stdout",
     "output_type": "stream",
     "text": [
      "\n",
      "To find maxima/ minina, equate the gradient to zero to find critical points\n"
     ]
    },
    {
     "data": {
      "text/latex": [
       "$\\displaystyle \\left[\\begin{matrix}3 x_{1}^{2} + 2 x_{2}\\\\2 x_{1} + 4\\end{matrix}\\right] = \\left[\\begin{matrix}0\\\\0\\end{matrix}\\right]$"
      ],
      "text/plain": [
       "Eq(Matrix([\n",
       "[3*x1**2 + 2*x2],\n",
       "[      2*x1 + 4]]), Matrix([\n",
       "[0],\n",
       "[0]]))"
      ]
     },
     "metadata": {},
     "output_type": "display_data"
    },
    {
     "name": "stdout",
     "output_type": "stream",
     "text": [
      "\n",
      "The critical points are:\n"
     ]
    },
    {
     "data": {
      "text/latex": [
       "$\\displaystyle c_{1} = \\left[\\begin{matrix}-2\\\\-6\\end{matrix}\\right]$"
      ],
      "text/plain": [
       "Eq(c1, Matrix([\n",
       "[-2],\n",
       "[-6]]))"
      ]
     },
     "metadata": {},
     "output_type": "display_data"
    },
    {
     "name": "stdout",
     "output_type": "stream",
     "text": [
      "\n",
      "Creating the Hessian Matrix\n"
     ]
    },
    {
     "data": {
      "text/latex": [
       "$\\displaystyle Hf = \\left[\\begin{matrix}\\frac{\\partial^{2}}{\\partial x_{1}^{2}} f{\\left(x_{1},x_{2} \\right)} & \\frac{\\partial^{2}}{\\partial x_{1}\\partial x_{2}} f{\\left(x_{1},x_{2} \\right)}\\\\\\frac{\\partial^{2}}{\\partial x_{2}\\partial x_{1}} f{\\left(x_{1},x_{2} \\right)} & \\frac{\\partial^{2}}{\\partial x_{2}^{2}} f{\\left(x_{1},x_{2} \\right)}\\end{matrix}\\right]$"
      ],
      "text/plain": [
       "Eq(Hf, Matrix([\n",
       "[Derivative(f(x1, x2), (x1, 2)),  Derivative(f(x1, x2), x2, x1)],\n",
       "[ Derivative(f(x1, x2), x1, x2), Derivative(f(x1, x2), (x2, 2))]]))"
      ]
     },
     "metadata": {},
     "output_type": "display_data"
    },
    {
     "data": {
      "text/latex": [
       "$\\displaystyle Hf = \\left[\\begin{matrix}\\frac{\\partial^{2}}{\\partial x_{1}^{2}} \\left(x_{1}^{3} + 2 x_{1} x_{2} + 4 x_{2}\\right) & \\frac{\\partial^{2}}{\\partial x_{1}\\partial x_{2}} \\left(x_{1}^{3} + 2 x_{1} x_{2} + 4 x_{2}\\right)\\\\\\frac{\\partial^{2}}{\\partial x_{2}\\partial x_{1}} \\left(x_{1}^{3} + 2 x_{1} x_{2} + 4 x_{2}\\right) & \\frac{\\partial^{2}}{\\partial x_{2}^{2}} \\left(x_{1}^{3} + 2 x_{1} x_{2} + 4 x_{2}\\right)\\end{matrix}\\right]$"
      ],
      "text/plain": [
       "Eq(Hf, Matrix([\n",
       "[Derivative(x1**3 + 2*x1*x2 + 4*x2, (x1, 2)),  Derivative(x1**3 + 2*x1*x2 + 4*x2, x2, x1)],\n",
       "[ Derivative(x1**3 + 2*x1*x2 + 4*x2, x1, x2), Derivative(x1**3 + 2*x1*x2 + 4*x2, (x2, 2))]]))"
      ]
     },
     "metadata": {},
     "output_type": "display_data"
    },
    {
     "data": {
      "text/latex": [
       "$\\displaystyle Hf = \\left[\\begin{matrix}6 x_{1} & 2\\\\2 & 0\\end{matrix}\\right]$"
      ],
      "text/plain": [
       "Eq(Hf, Matrix([\n",
       "[6*x1, 2],\n",
       "[   2, 0]]))"
      ]
     },
     "metadata": {},
     "output_type": "display_data"
    },
    {
     "name": "stdout",
     "output_type": "stream",
     "text": [
      "\n",
      "Substituting the critical point values in Hessian Matrix\n",
      "\n",
      "\n",
      "For\n"
     ]
    },
    {
     "data": {
      "text/latex": [
       "$\\displaystyle c_{1} = \\left[\\begin{matrix}-2\\\\-6\\end{matrix}\\right]$"
      ],
      "text/plain": [
       "Eq(c1, Matrix([\n",
       "[-2],\n",
       "[-6]]))"
      ]
     },
     "metadata": {},
     "output_type": "display_data"
    },
    {
     "data": {
      "text/latex": [
       "$\\displaystyle Hf = \\left[\\begin{matrix}-12 & 2\\\\2 & 0\\end{matrix}\\right]$"
      ],
      "text/plain": [
       "Eq(Hf, Matrix([\n",
       "[-12, 2],\n",
       "[  2, 0]]))"
      ]
     },
     "metadata": {},
     "output_type": "display_data"
    },
    {
     "name": "stdout",
     "output_type": "stream",
     "text": [
      "EigenValues  of hessian matrix are\n"
     ]
    },
    {
     "data": {
      "text/latex": [
       "$\\displaystyle e_{1} = - 2 \\sqrt{10} - 6$"
      ],
      "text/plain": [
       "Eq(e1, -2*sqrt(10) - 6)"
      ]
     },
     "metadata": {},
     "output_type": "display_data"
    },
    {
     "data": {
      "text/latex": [
       "$\\displaystyle e_{2} = -6 + 2 \\sqrt{10}$"
      ],
      "text/plain": [
       "Eq(e2, -6 + 2*sqrt(10))"
      ]
     },
     "metadata": {},
     "output_type": "display_data"
    },
    {
     "name": "stdout",
     "output_type": "stream",
     "text": [
      "Since All eigenvalues are neither positive nor negative,  the critical point is a saddle point\n"
     ]
    }
   ],
   "source": [
    "hessian(str_expr='x1**3 + 2* x1*x2 + 4*x2', str_symbols='x1 x2')"
   ]
  },
  {
   "cell_type": "code",
   "execution_count": 4,
   "id": "musical-belize",
   "metadata": {},
   "outputs": [
    {
     "name": "stdout",
     "output_type": "stream",
     "text": [
      "The function is\n"
     ]
    },
    {
     "data": {
      "text/latex": [
       "$\\displaystyle f{\\left(x,y \\right)} = 2 x^{3} - 3 x^{2} y - 12 x^{2} - 3 y^{2}$"
      ],
      "text/plain": [
       "Eq(f(x, y), 2*x**3 - 3*x**2*y - 12*x**2 - 3*y**2)"
      ]
     },
     "metadata": {},
     "output_type": "display_data"
    },
    {
     "name": "stdout",
     "output_type": "stream",
     "text": [
      "\n",
      "Finding gradient of the function\n"
     ]
    },
    {
     "data": {
      "text/latex": [
       "$\\displaystyle ∇f = \\left[\\begin{matrix}\\frac{\\partial}{\\partial x} f{\\left(x,y \\right)}\\\\\\frac{\\partial}{\\partial y} f{\\left(x,y \\right)}\\end{matrix}\\right]$"
      ],
      "text/plain": [
       "Eq(∇f, Matrix([\n",
       "[Derivative(f(x, y), x)],\n",
       "[Derivative(f(x, y), y)]]))"
      ]
     },
     "metadata": {},
     "output_type": "display_data"
    },
    {
     "data": {
      "text/latex": [
       "$\\displaystyle ∇f = \\left[\\begin{matrix}\\frac{\\partial}{\\partial x} \\left(2 x^{3} - 3 x^{2} y - 12 x^{2} - 3 y^{2}\\right)\\\\\\frac{\\partial}{\\partial y} \\left(2 x^{3} - 3 x^{2} y - 12 x^{2} - 3 y^{2}\\right)\\end{matrix}\\right]$"
      ],
      "text/plain": [
       "Eq(∇f, Matrix([\n",
       "[Derivative(2*x**3 - 3*x**2*y - 12*x**2 - 3*y**2, x)],\n",
       "[Derivative(2*x**3 - 3*x**2*y - 12*x**2 - 3*y**2, y)]]))"
      ]
     },
     "metadata": {},
     "output_type": "display_data"
    },
    {
     "data": {
      "text/latex": [
       "$\\displaystyle ∇f = \\left[\\begin{matrix}6 x^{2} - 6 x y - 24 x\\\\- 3 x^{2} - 6 y\\end{matrix}\\right]$"
      ],
      "text/plain": [
       "Eq(∇f, Matrix([\n",
       "[6*x**2 - 6*x*y - 24*x],\n",
       "[        -3*x**2 - 6*y]]))"
      ]
     },
     "metadata": {},
     "output_type": "display_data"
    },
    {
     "name": "stdout",
     "output_type": "stream",
     "text": [
      "\n",
      "To find maxima/ minina, equate the gradient to zero to find critical points\n"
     ]
    },
    {
     "data": {
      "text/latex": [
       "$\\displaystyle \\left[\\begin{matrix}6 x^{2} - 6 x y - 24 x\\\\- 3 x^{2} - 6 y\\end{matrix}\\right] = \\left[\\begin{matrix}0\\\\0\\end{matrix}\\right]$"
      ],
      "text/plain": [
       "Eq(Matrix([\n",
       "[6*x**2 - 6*x*y - 24*x],\n",
       "[        -3*x**2 - 6*y]]), Matrix([\n",
       "[0],\n",
       "[0]]))"
      ]
     },
     "metadata": {},
     "output_type": "display_data"
    },
    {
     "name": "stdout",
     "output_type": "stream",
     "text": [
      "\n",
      "The critical points are:\n"
     ]
    },
    {
     "data": {
      "text/latex": [
       "$\\displaystyle c_{1} = \\left[\\begin{matrix}-4\\\\-8\\end{matrix}\\right]$"
      ],
      "text/plain": [
       "Eq(c1, Matrix([\n",
       "[-4],\n",
       "[-8]]))"
      ]
     },
     "metadata": {},
     "output_type": "display_data"
    },
    {
     "data": {
      "text/latex": [
       "$\\displaystyle c_{2} = \\left[\\begin{matrix}0\\\\0\\end{matrix}\\right]$"
      ],
      "text/plain": [
       "Eq(c2, Matrix([\n",
       "[0],\n",
       "[0]]))"
      ]
     },
     "metadata": {},
     "output_type": "display_data"
    },
    {
     "data": {
      "text/latex": [
       "$\\displaystyle c_{3} = \\left[\\begin{matrix}2\\\\-2\\end{matrix}\\right]$"
      ],
      "text/plain": [
       "Eq(c3, Matrix([\n",
       "[ 2],\n",
       "[-2]]))"
      ]
     },
     "metadata": {},
     "output_type": "display_data"
    },
    {
     "name": "stdout",
     "output_type": "stream",
     "text": [
      "\n",
      "Creating the Hessian Matrix\n"
     ]
    },
    {
     "data": {
      "text/latex": [
       "$\\displaystyle Hf = \\left[\\begin{matrix}\\frac{\\partial^{2}}{\\partial x^{2}} f{\\left(x,y \\right)} & \\frac{\\partial^{2}}{\\partial x\\partial y} f{\\left(x,y \\right)}\\\\\\frac{\\partial^{2}}{\\partial y\\partial x} f{\\left(x,y \\right)} & \\frac{\\partial^{2}}{\\partial y^{2}} f{\\left(x,y \\right)}\\end{matrix}\\right]$"
      ],
      "text/plain": [
       "Eq(Hf, Matrix([\n",
       "[Derivative(f(x, y), (x, 2)),   Derivative(f(x, y), y, x)],\n",
       "[  Derivative(f(x, y), x, y), Derivative(f(x, y), (y, 2))]]))"
      ]
     },
     "metadata": {},
     "output_type": "display_data"
    },
    {
     "data": {
      "text/latex": [
       "$\\displaystyle Hf = \\left[\\begin{matrix}\\frac{\\partial^{2}}{\\partial x^{2}} \\left(2 x^{3} - 3 x^{2} y - 12 x^{2} - 3 y^{2}\\right) & \\frac{\\partial^{2}}{\\partial x\\partial y} \\left(2 x^{3} - 3 x^{2} y - 12 x^{2} - 3 y^{2}\\right)\\\\\\frac{\\partial^{2}}{\\partial y\\partial x} \\left(2 x^{3} - 3 x^{2} y - 12 x^{2} - 3 y^{2}\\right) & \\frac{\\partial^{2}}{\\partial y^{2}} \\left(2 x^{3} - 3 x^{2} y - 12 x^{2} - 3 y^{2}\\right)\\end{matrix}\\right]$"
      ],
      "text/plain": [
       "Eq(Hf, Matrix([\n",
       "[Derivative(2*x**3 - 3*x**2*y - 12*x**2 - 3*y**2, (x, 2)),   Derivative(2*x**3 - 3*x**2*y - 12*x**2 - 3*y**2, y, x)],\n",
       "[  Derivative(2*x**3 - 3*x**2*y - 12*x**2 - 3*y**2, x, y), Derivative(2*x**3 - 3*x**2*y - 12*x**2 - 3*y**2, (y, 2))]]))"
      ]
     },
     "metadata": {},
     "output_type": "display_data"
    },
    {
     "data": {
      "text/latex": [
       "$\\displaystyle Hf = \\left[\\begin{matrix}12 x - 6 y - 24 & - 6 x\\\\- 6 x & -6\\end{matrix}\\right]$"
      ],
      "text/plain": [
       "Eq(Hf, Matrix([\n",
       "[12*x - 6*y - 24, -6*x],\n",
       "[           -6*x,   -6]]))"
      ]
     },
     "metadata": {},
     "output_type": "display_data"
    },
    {
     "name": "stdout",
     "output_type": "stream",
     "text": [
      "\n",
      "Substituting the critical point values in Hessian Matrix\n",
      "\n",
      "\n",
      "For\n"
     ]
    },
    {
     "data": {
      "text/latex": [
       "$\\displaystyle c_{1} = \\left[\\begin{matrix}-4\\\\-8\\end{matrix}\\right]$"
      ],
      "text/plain": [
       "Eq(c1, Matrix([\n",
       "[-4],\n",
       "[-8]]))"
      ]
     },
     "metadata": {},
     "output_type": "display_data"
    },
    {
     "data": {
      "text/latex": [
       "$\\displaystyle Hf = \\left[\\begin{matrix}-24 & 24\\\\24 & -6\\end{matrix}\\right]$"
      ],
      "text/plain": [
       "Eq(Hf, Matrix([\n",
       "[-24, 24],\n",
       "[ 24, -6]]))"
      ]
     },
     "metadata": {},
     "output_type": "display_data"
    },
    {
     "name": "stdout",
     "output_type": "stream",
     "text": [
      "EigenValues  of hessian matrix are\n"
     ]
    },
    {
     "data": {
      "text/latex": [
       "$\\displaystyle e_{1} = - 3 \\sqrt{73} - 15$"
      ],
      "text/plain": [
       "Eq(e1, -3*sqrt(73) - 15)"
      ]
     },
     "metadata": {},
     "output_type": "display_data"
    },
    {
     "data": {
      "text/latex": [
       "$\\displaystyle e_{2} = -15 + 3 \\sqrt{73}$"
      ],
      "text/plain": [
       "Eq(e2, -15 + 3*sqrt(73))"
      ]
     },
     "metadata": {},
     "output_type": "display_data"
    },
    {
     "name": "stdout",
     "output_type": "stream",
     "text": [
      "Since All eigenvalues are neither positive nor negative,  the critical point is a saddle point\n",
      "\n",
      "\n",
      "For\n"
     ]
    },
    {
     "data": {
      "text/latex": [
       "$\\displaystyle c_{2} = \\left[\\begin{matrix}0\\\\0\\end{matrix}\\right]$"
      ],
      "text/plain": [
       "Eq(c2, Matrix([\n",
       "[0],\n",
       "[0]]))"
      ]
     },
     "metadata": {},
     "output_type": "display_data"
    },
    {
     "data": {
      "text/latex": [
       "$\\displaystyle Hf = \\left[\\begin{matrix}-24 & 0\\\\0 & -6\\end{matrix}\\right]$"
      ],
      "text/plain": [
       "Eq(Hf, Matrix([\n",
       "[-24,  0],\n",
       "[  0, -6]]))"
      ]
     },
     "metadata": {},
     "output_type": "display_data"
    },
    {
     "name": "stdout",
     "output_type": "stream",
     "text": [
      "EigenValues  of hessian matrix are\n"
     ]
    },
    {
     "data": {
      "text/latex": [
       "$\\displaystyle e_{1} = -24$"
      ],
      "text/plain": [
       "Eq(e1, -24)"
      ]
     },
     "metadata": {},
     "output_type": "display_data"
    },
    {
     "data": {
      "text/latex": [
       "$\\displaystyle e_{2} = -6$"
      ],
      "text/plain": [
       "Eq(e2, -6)"
      ]
     },
     "metadata": {},
     "output_type": "display_data"
    },
    {
     "name": "stdout",
     "output_type": "stream",
     "text": [
      "Since All eigenvalues are negative, we have local maxima at the critical point\n",
      "\n",
      "\n",
      "For\n"
     ]
    },
    {
     "data": {
      "text/latex": [
       "$\\displaystyle c_{3} = \\left[\\begin{matrix}2\\\\-2\\end{matrix}\\right]$"
      ],
      "text/plain": [
       "Eq(c3, Matrix([\n",
       "[ 2],\n",
       "[-2]]))"
      ]
     },
     "metadata": {},
     "output_type": "display_data"
    },
    {
     "data": {
      "text/latex": [
       "$\\displaystyle Hf = \\left[\\begin{matrix}12 & -12\\\\-12 & -6\\end{matrix}\\right]$"
      ],
      "text/plain": [
       "Eq(Hf, Matrix([\n",
       "[ 12, -12],\n",
       "[-12,  -6]]))"
      ]
     },
     "metadata": {},
     "output_type": "display_data"
    },
    {
     "name": "stdout",
     "output_type": "stream",
     "text": [
      "EigenValues  of hessian matrix are\n"
     ]
    },
    {
     "data": {
      "text/latex": [
       "$\\displaystyle e_{1} = 18$"
      ],
      "text/plain": [
       "Eq(e1, 18)"
      ]
     },
     "metadata": {},
     "output_type": "display_data"
    },
    {
     "data": {
      "text/latex": [
       "$\\displaystyle e_{2} = -12$"
      ],
      "text/plain": [
       "Eq(e2, -12)"
      ]
     },
     "metadata": {},
     "output_type": "display_data"
    },
    {
     "name": "stdout",
     "output_type": "stream",
     "text": [
      "Since All eigenvalues are neither positive nor negative,  the critical point is a saddle point\n"
     ]
    }
   ],
   "source": [
    "hessian('2*x**3 -3*x**2*y - 12*x**2 - 3*y**2', 'x y')"
   ]
  },
  {
   "cell_type": "code",
   "execution_count": null,
   "id": "aggressive-start",
   "metadata": {},
   "outputs": [],
   "source": []
  }
 ],
 "metadata": {
  "kernelspec": {
   "display_name": "Python 3",
   "language": "python",
   "name": "python3"
  },
  "language_info": {
   "codemirror_mode": {
    "name": "ipython",
    "version": 3
   },
   "file_extension": ".py",
   "mimetype": "text/x-python",
   "name": "python",
   "nbconvert_exporter": "python",
   "pygments_lexer": "ipython3",
   "version": "3.9.1"
  }
 },
 "nbformat": 4,
 "nbformat_minor": 5
}
